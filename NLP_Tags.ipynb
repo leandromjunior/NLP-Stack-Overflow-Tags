{
  "nbformat": 4,
  "nbformat_minor": 0,
  "metadata": {
    "colab": {
      "provenance": []
    },
    "kernelspec": {
      "name": "python3",
      "display_name": "Python 3"
    },
    "language_info": {
      "name": "python"
    }
  },
  "cells": [
    {
      "cell_type": "markdown",
      "source": [
        "O objetivo deste projeto é predizer a partir de perguntas qual tag é relacionada à pergunta realizada. Para isto serão utilizados dados do Stack Overflow"
      ],
      "metadata": {
        "id": "wfxyTBBY9WkW"
      }
    },
    {
      "cell_type": "code",
      "source": [
        "import numpy as np\n",
        "import pandas as pd\n",
        "\n",
        "import seaborn as sns\n",
        "import matplotlib.pyplot as plt\n",
        "\n",
        "from ast import literal_eval\n",
        "\n",
        "import nltk\n",
        "from nltk.corpus import stopwords\n",
        "\n",
        "import re\n",
        "\n",
        "from collections import Counter\n",
        "\n",
        "from itertools import chain\n",
        "\n",
        "from sklearn.feature_extraction.text import CountVectorizer, TfidfVectorizer\n",
        "from sklearn.preprocessing import MultiLabelBinarizer\n",
        "from sklearn.multiclass import OneVsRestClassifier\n",
        "from sklearn.linear_model import LogisticRegression, RidgeClassifier\n",
        "from sklearn.metrics import accuracy_score, f1_score, roc_auc_score, average_precision_score, recall_score\n",
        "\n",
        "nltk.download('stopwords') # Para caso a lista esteja desatualizada\n",
        "\n",
        "%matplotlib inline"
      ],
      "metadata": {
        "colab": {
          "base_uri": "https://localhost:8080/"
        },
        "id": "qJA9orGX9V4Z",
        "outputId": "5ec11ed4-24da-4b56-9069-ebc7a8cf9d45"
      },
      "execution_count": 3,
      "outputs": [
        {
          "output_type": "stream",
          "name": "stderr",
          "text": [
            "[nltk_data] Downloading package stopwords to /root/nltk_data...\n",
            "[nltk_data]   Unzipping corpora/stopwords.zip.\n"
          ]
        }
      ]
    },
    {
      "cell_type": "code",
      "execution_count": 4,
      "metadata": {
        "id": "m1tp6iMH55Dg"
      },
      "outputs": [],
      "source": [
        "def read_data(uploadfile):\n",
        "\n",
        "  # importando o arquivo\n",
        "  data = pd.read_csv(uploadfile, sep='\\t')\n",
        "\n",
        "  #removendo as aspas que são importadas nos dados\n",
        "  data['tags'] = data['tags'].apply(literal_eval)\n",
        "\n",
        "  return data"
      ]
    },
    {
      "cell_type": "code",
      "source": [
        "train_set = read_data('/content/train.tsv')\n",
        "\n",
        "validation_set = read_data('/content/validation.tsv')"
      ],
      "metadata": {
        "id": "HDyVI1b7A9hX"
      },
      "execution_count": 5,
      "outputs": []
    },
    {
      "cell_type": "code",
      "source": [
        "train_set.head()"
      ],
      "metadata": {
        "colab": {
          "base_uri": "https://localhost:8080/",
          "height": 206
        },
        "id": "qeqWPwLsBsGb",
        "outputId": "d724351e-7bce-409f-a936-ed8c269d376b"
      },
      "execution_count": 6,
      "outputs": [
        {
          "output_type": "execute_result",
          "data": {
            "text/plain": [
              "                                               title                  tags\n",
              "0                How to draw a stacked dotplot in R?                   [r]\n",
              "1  mysql select all records where a datetime fiel...          [php, mysql]\n",
              "2             How to terminate windows phone 8.1 app                  [c#]\n",
              "3  get current time in a specific country via jquery  [javascript, jquery]\n",
              "4                      Configuring Tomcat to Use SSL                [java]"
            ],
            "text/html": [
              "\n",
              "\n",
              "  <div id=\"df-9cc6594a-131d-411d-a386-e1dfe9527b6e\">\n",
              "    <div class=\"colab-df-container\">\n",
              "      <div>\n",
              "<style scoped>\n",
              "    .dataframe tbody tr th:only-of-type {\n",
              "        vertical-align: middle;\n",
              "    }\n",
              "\n",
              "    .dataframe tbody tr th {\n",
              "        vertical-align: top;\n",
              "    }\n",
              "\n",
              "    .dataframe thead th {\n",
              "        text-align: right;\n",
              "    }\n",
              "</style>\n",
              "<table border=\"1\" class=\"dataframe\">\n",
              "  <thead>\n",
              "    <tr style=\"text-align: right;\">\n",
              "      <th></th>\n",
              "      <th>title</th>\n",
              "      <th>tags</th>\n",
              "    </tr>\n",
              "  </thead>\n",
              "  <tbody>\n",
              "    <tr>\n",
              "      <th>0</th>\n",
              "      <td>How to draw a stacked dotplot in R?</td>\n",
              "      <td>[r]</td>\n",
              "    </tr>\n",
              "    <tr>\n",
              "      <th>1</th>\n",
              "      <td>mysql select all records where a datetime fiel...</td>\n",
              "      <td>[php, mysql]</td>\n",
              "    </tr>\n",
              "    <tr>\n",
              "      <th>2</th>\n",
              "      <td>How to terminate windows phone 8.1 app</td>\n",
              "      <td>[c#]</td>\n",
              "    </tr>\n",
              "    <tr>\n",
              "      <th>3</th>\n",
              "      <td>get current time in a specific country via jquery</td>\n",
              "      <td>[javascript, jquery]</td>\n",
              "    </tr>\n",
              "    <tr>\n",
              "      <th>4</th>\n",
              "      <td>Configuring Tomcat to Use SSL</td>\n",
              "      <td>[java]</td>\n",
              "    </tr>\n",
              "  </tbody>\n",
              "</table>\n",
              "</div>\n",
              "      <button class=\"colab-df-convert\" onclick=\"convertToInteractive('df-9cc6594a-131d-411d-a386-e1dfe9527b6e')\"\n",
              "              title=\"Convert this dataframe to an interactive table.\"\n",
              "              style=\"display:none;\">\n",
              "\n",
              "  <svg xmlns=\"http://www.w3.org/2000/svg\" height=\"24px\"viewBox=\"0 0 24 24\"\n",
              "       width=\"24px\">\n",
              "    <path d=\"M0 0h24v24H0V0z\" fill=\"none\"/>\n",
              "    <path d=\"M18.56 5.44l.94 2.06.94-2.06 2.06-.94-2.06-.94-.94-2.06-.94 2.06-2.06.94zm-11 1L8.5 8.5l.94-2.06 2.06-.94-2.06-.94L8.5 2.5l-.94 2.06-2.06.94zm10 10l.94 2.06.94-2.06 2.06-.94-2.06-.94-.94-2.06-.94 2.06-2.06.94z\"/><path d=\"M17.41 7.96l-1.37-1.37c-.4-.4-.92-.59-1.43-.59-.52 0-1.04.2-1.43.59L10.3 9.45l-7.72 7.72c-.78.78-.78 2.05 0 2.83L4 21.41c.39.39.9.59 1.41.59.51 0 1.02-.2 1.41-.59l7.78-7.78 2.81-2.81c.8-.78.8-2.07 0-2.86zM5.41 20L4 18.59l7.72-7.72 1.47 1.35L5.41 20z\"/>\n",
              "  </svg>\n",
              "      </button>\n",
              "\n",
              "\n",
              "\n",
              "    <div id=\"df-272d3f22-3a41-44ee-822a-4911c9dd2d24\">\n",
              "      <button class=\"colab-df-quickchart\" onclick=\"quickchart('df-272d3f22-3a41-44ee-822a-4911c9dd2d24')\"\n",
              "              title=\"Suggest charts.\"\n",
              "              style=\"display:none;\">\n",
              "\n",
              "<svg xmlns=\"http://www.w3.org/2000/svg\" height=\"24px\"viewBox=\"0 0 24 24\"\n",
              "     width=\"24px\">\n",
              "    <g>\n",
              "        <path d=\"M19 3H5c-1.1 0-2 .9-2 2v14c0 1.1.9 2 2 2h14c1.1 0 2-.9 2-2V5c0-1.1-.9-2-2-2zM9 17H7v-7h2v7zm4 0h-2V7h2v10zm4 0h-2v-4h2v4z\"/>\n",
              "    </g>\n",
              "</svg>\n",
              "      </button>\n",
              "    </div>\n",
              "\n",
              "<style>\n",
              "  .colab-df-quickchart {\n",
              "    background-color: #E8F0FE;\n",
              "    border: none;\n",
              "    border-radius: 50%;\n",
              "    cursor: pointer;\n",
              "    display: none;\n",
              "    fill: #1967D2;\n",
              "    height: 32px;\n",
              "    padding: 0 0 0 0;\n",
              "    width: 32px;\n",
              "  }\n",
              "\n",
              "  .colab-df-quickchart:hover {\n",
              "    background-color: #E2EBFA;\n",
              "    box-shadow: 0px 1px 2px rgba(60, 64, 67, 0.3), 0px 1px 3px 1px rgba(60, 64, 67, 0.15);\n",
              "    fill: #174EA6;\n",
              "  }\n",
              "\n",
              "  [theme=dark] .colab-df-quickchart {\n",
              "    background-color: #3B4455;\n",
              "    fill: #D2E3FC;\n",
              "  }\n",
              "\n",
              "  [theme=dark] .colab-df-quickchart:hover {\n",
              "    background-color: #434B5C;\n",
              "    box-shadow: 0px 1px 3px 1px rgba(0, 0, 0, 0.15);\n",
              "    filter: drop-shadow(0px 1px 2px rgba(0, 0, 0, 0.3));\n",
              "    fill: #FFFFFF;\n",
              "  }\n",
              "</style>\n",
              "\n",
              "    <script>\n",
              "      async function quickchart(key) {\n",
              "        const containerElement = document.querySelector('#' + key);\n",
              "        const charts = await google.colab.kernel.invokeFunction(\n",
              "            'suggestCharts', [key], {});\n",
              "      }\n",
              "    </script>\n",
              "\n",
              "      <script>\n",
              "\n",
              "function displayQuickchartButton(domScope) {\n",
              "  let quickchartButtonEl =\n",
              "    domScope.querySelector('#df-272d3f22-3a41-44ee-822a-4911c9dd2d24 button.colab-df-quickchart');\n",
              "  quickchartButtonEl.style.display =\n",
              "    google.colab.kernel.accessAllowed ? 'block' : 'none';\n",
              "}\n",
              "\n",
              "        displayQuickchartButton(document);\n",
              "      </script>\n",
              "      <style>\n",
              "    .colab-df-container {\n",
              "      display:flex;\n",
              "      flex-wrap:wrap;\n",
              "      gap: 12px;\n",
              "    }\n",
              "\n",
              "    .colab-df-convert {\n",
              "      background-color: #E8F0FE;\n",
              "      border: none;\n",
              "      border-radius: 50%;\n",
              "      cursor: pointer;\n",
              "      display: none;\n",
              "      fill: #1967D2;\n",
              "      height: 32px;\n",
              "      padding: 0 0 0 0;\n",
              "      width: 32px;\n",
              "    }\n",
              "\n",
              "    .colab-df-convert:hover {\n",
              "      background-color: #E2EBFA;\n",
              "      box-shadow: 0px 1px 2px rgba(60, 64, 67, 0.3), 0px 1px 3px 1px rgba(60, 64, 67, 0.15);\n",
              "      fill: #174EA6;\n",
              "    }\n",
              "\n",
              "    [theme=dark] .colab-df-convert {\n",
              "      background-color: #3B4455;\n",
              "      fill: #D2E3FC;\n",
              "    }\n",
              "\n",
              "    [theme=dark] .colab-df-convert:hover {\n",
              "      background-color: #434B5C;\n",
              "      box-shadow: 0px 1px 3px 1px rgba(0, 0, 0, 0.15);\n",
              "      filter: drop-shadow(0px 1px 2px rgba(0, 0, 0, 0.3));\n",
              "      fill: #FFFFFF;\n",
              "    }\n",
              "  </style>\n",
              "\n",
              "      <script>\n",
              "        const buttonEl =\n",
              "          document.querySelector('#df-9cc6594a-131d-411d-a386-e1dfe9527b6e button.colab-df-convert');\n",
              "        buttonEl.style.display =\n",
              "          google.colab.kernel.accessAllowed ? 'block' : 'none';\n",
              "\n",
              "        async function convertToInteractive(key) {\n",
              "          const element = document.querySelector('#df-9cc6594a-131d-411d-a386-e1dfe9527b6e');\n",
              "          const dataTable =\n",
              "            await google.colab.kernel.invokeFunction('convertToInteractive',\n",
              "                                                     [key], {});\n",
              "          if (!dataTable) return;\n",
              "\n",
              "          const docLinkHtml = 'Like what you see? Visit the ' +\n",
              "            '<a target=\"_blank\" href=https://colab.research.google.com/notebooks/data_table.ipynb>data table notebook</a>'\n",
              "            + ' to learn more about interactive tables.';\n",
              "          element.innerHTML = '';\n",
              "          dataTable['output_type'] = 'display_data';\n",
              "          await google.colab.output.renderOutput(dataTable, element);\n",
              "          const docLink = document.createElement('div');\n",
              "          docLink.innerHTML = docLinkHtml;\n",
              "          element.appendChild(docLink);\n",
              "        }\n",
              "      </script>\n",
              "    </div>\n",
              "  </div>\n"
            ]
          },
          "metadata": {},
          "execution_count": 6
        }
      ]
    },
    {
      "cell_type": "code",
      "source": [
        "validation_set.head()"
      ],
      "metadata": {
        "colab": {
          "base_uri": "https://localhost:8080/",
          "height": 206
        },
        "id": "47G_GuHWB3Ij",
        "outputId": "f0da6550-b1a6-44dc-c27a-bd67f0942db5"
      },
      "execution_count": 7,
      "outputs": [
        {
          "output_type": "execute_result",
          "data": {
            "text/plain": [
              "                                               title  \\\n",
              "0                         Why odbc_exec always fail?   \n",
              "1  Access a base classes variable from within a c...   \n",
              "2  Content-Type \"application/json\" not required i...   \n",
              "3         Sessions in Sinatra: Used to Pass Variable   \n",
              "4  Getting error - type \"json\" does not exist - i...   \n",
              "\n",
              "                          tags  \n",
              "0                   [php, sql]  \n",
              "1                 [javascript]  \n",
              "2        [ruby-on-rails, ruby]  \n",
              "3              [ruby, session]  \n",
              "4  [ruby-on-rails, ruby, json]  "
            ],
            "text/html": [
              "\n",
              "\n",
              "  <div id=\"df-0c108638-e192-40ba-898b-ac4caa5fa16d\">\n",
              "    <div class=\"colab-df-container\">\n",
              "      <div>\n",
              "<style scoped>\n",
              "    .dataframe tbody tr th:only-of-type {\n",
              "        vertical-align: middle;\n",
              "    }\n",
              "\n",
              "    .dataframe tbody tr th {\n",
              "        vertical-align: top;\n",
              "    }\n",
              "\n",
              "    .dataframe thead th {\n",
              "        text-align: right;\n",
              "    }\n",
              "</style>\n",
              "<table border=\"1\" class=\"dataframe\">\n",
              "  <thead>\n",
              "    <tr style=\"text-align: right;\">\n",
              "      <th></th>\n",
              "      <th>title</th>\n",
              "      <th>tags</th>\n",
              "    </tr>\n",
              "  </thead>\n",
              "  <tbody>\n",
              "    <tr>\n",
              "      <th>0</th>\n",
              "      <td>Why odbc_exec always fail?</td>\n",
              "      <td>[php, sql]</td>\n",
              "    </tr>\n",
              "    <tr>\n",
              "      <th>1</th>\n",
              "      <td>Access a base classes variable from within a c...</td>\n",
              "      <td>[javascript]</td>\n",
              "    </tr>\n",
              "    <tr>\n",
              "      <th>2</th>\n",
              "      <td>Content-Type \"application/json\" not required i...</td>\n",
              "      <td>[ruby-on-rails, ruby]</td>\n",
              "    </tr>\n",
              "    <tr>\n",
              "      <th>3</th>\n",
              "      <td>Sessions in Sinatra: Used to Pass Variable</td>\n",
              "      <td>[ruby, session]</td>\n",
              "    </tr>\n",
              "    <tr>\n",
              "      <th>4</th>\n",
              "      <td>Getting error - type \"json\" does not exist - i...</td>\n",
              "      <td>[ruby-on-rails, ruby, json]</td>\n",
              "    </tr>\n",
              "  </tbody>\n",
              "</table>\n",
              "</div>\n",
              "      <button class=\"colab-df-convert\" onclick=\"convertToInteractive('df-0c108638-e192-40ba-898b-ac4caa5fa16d')\"\n",
              "              title=\"Convert this dataframe to an interactive table.\"\n",
              "              style=\"display:none;\">\n",
              "\n",
              "  <svg xmlns=\"http://www.w3.org/2000/svg\" height=\"24px\"viewBox=\"0 0 24 24\"\n",
              "       width=\"24px\">\n",
              "    <path d=\"M0 0h24v24H0V0z\" fill=\"none\"/>\n",
              "    <path d=\"M18.56 5.44l.94 2.06.94-2.06 2.06-.94-2.06-.94-.94-2.06-.94 2.06-2.06.94zm-11 1L8.5 8.5l.94-2.06 2.06-.94-2.06-.94L8.5 2.5l-.94 2.06-2.06.94zm10 10l.94 2.06.94-2.06 2.06-.94-2.06-.94-.94-2.06-.94 2.06-2.06.94z\"/><path d=\"M17.41 7.96l-1.37-1.37c-.4-.4-.92-.59-1.43-.59-.52 0-1.04.2-1.43.59L10.3 9.45l-7.72 7.72c-.78.78-.78 2.05 0 2.83L4 21.41c.39.39.9.59 1.41.59.51 0 1.02-.2 1.41-.59l7.78-7.78 2.81-2.81c.8-.78.8-2.07 0-2.86zM5.41 20L4 18.59l7.72-7.72 1.47 1.35L5.41 20z\"/>\n",
              "  </svg>\n",
              "      </button>\n",
              "\n",
              "\n",
              "\n",
              "    <div id=\"df-9139cad4-db23-4a83-8327-75c7ea6c2b73\">\n",
              "      <button class=\"colab-df-quickchart\" onclick=\"quickchart('df-9139cad4-db23-4a83-8327-75c7ea6c2b73')\"\n",
              "              title=\"Suggest charts.\"\n",
              "              style=\"display:none;\">\n",
              "\n",
              "<svg xmlns=\"http://www.w3.org/2000/svg\" height=\"24px\"viewBox=\"0 0 24 24\"\n",
              "     width=\"24px\">\n",
              "    <g>\n",
              "        <path d=\"M19 3H5c-1.1 0-2 .9-2 2v14c0 1.1.9 2 2 2h14c1.1 0 2-.9 2-2V5c0-1.1-.9-2-2-2zM9 17H7v-7h2v7zm4 0h-2V7h2v10zm4 0h-2v-4h2v4z\"/>\n",
              "    </g>\n",
              "</svg>\n",
              "      </button>\n",
              "    </div>\n",
              "\n",
              "<style>\n",
              "  .colab-df-quickchart {\n",
              "    background-color: #E8F0FE;\n",
              "    border: none;\n",
              "    border-radius: 50%;\n",
              "    cursor: pointer;\n",
              "    display: none;\n",
              "    fill: #1967D2;\n",
              "    height: 32px;\n",
              "    padding: 0 0 0 0;\n",
              "    width: 32px;\n",
              "  }\n",
              "\n",
              "  .colab-df-quickchart:hover {\n",
              "    background-color: #E2EBFA;\n",
              "    box-shadow: 0px 1px 2px rgba(60, 64, 67, 0.3), 0px 1px 3px 1px rgba(60, 64, 67, 0.15);\n",
              "    fill: #174EA6;\n",
              "  }\n",
              "\n",
              "  [theme=dark] .colab-df-quickchart {\n",
              "    background-color: #3B4455;\n",
              "    fill: #D2E3FC;\n",
              "  }\n",
              "\n",
              "  [theme=dark] .colab-df-quickchart:hover {\n",
              "    background-color: #434B5C;\n",
              "    box-shadow: 0px 1px 3px 1px rgba(0, 0, 0, 0.15);\n",
              "    filter: drop-shadow(0px 1px 2px rgba(0, 0, 0, 0.3));\n",
              "    fill: #FFFFFF;\n",
              "  }\n",
              "</style>\n",
              "\n",
              "    <script>\n",
              "      async function quickchart(key) {\n",
              "        const containerElement = document.querySelector('#' + key);\n",
              "        const charts = await google.colab.kernel.invokeFunction(\n",
              "            'suggestCharts', [key], {});\n",
              "      }\n",
              "    </script>\n",
              "\n",
              "      <script>\n",
              "\n",
              "function displayQuickchartButton(domScope) {\n",
              "  let quickchartButtonEl =\n",
              "    domScope.querySelector('#df-9139cad4-db23-4a83-8327-75c7ea6c2b73 button.colab-df-quickchart');\n",
              "  quickchartButtonEl.style.display =\n",
              "    google.colab.kernel.accessAllowed ? 'block' : 'none';\n",
              "}\n",
              "\n",
              "        displayQuickchartButton(document);\n",
              "      </script>\n",
              "      <style>\n",
              "    .colab-df-container {\n",
              "      display:flex;\n",
              "      flex-wrap:wrap;\n",
              "      gap: 12px;\n",
              "    }\n",
              "\n",
              "    .colab-df-convert {\n",
              "      background-color: #E8F0FE;\n",
              "      border: none;\n",
              "      border-radius: 50%;\n",
              "      cursor: pointer;\n",
              "      display: none;\n",
              "      fill: #1967D2;\n",
              "      height: 32px;\n",
              "      padding: 0 0 0 0;\n",
              "      width: 32px;\n",
              "    }\n",
              "\n",
              "    .colab-df-convert:hover {\n",
              "      background-color: #E2EBFA;\n",
              "      box-shadow: 0px 1px 2px rgba(60, 64, 67, 0.3), 0px 1px 3px 1px rgba(60, 64, 67, 0.15);\n",
              "      fill: #174EA6;\n",
              "    }\n",
              "\n",
              "    [theme=dark] .colab-df-convert {\n",
              "      background-color: #3B4455;\n",
              "      fill: #D2E3FC;\n",
              "    }\n",
              "\n",
              "    [theme=dark] .colab-df-convert:hover {\n",
              "      background-color: #434B5C;\n",
              "      box-shadow: 0px 1px 3px 1px rgba(0, 0, 0, 0.15);\n",
              "      filter: drop-shadow(0px 1px 2px rgba(0, 0, 0, 0.3));\n",
              "      fill: #FFFFFF;\n",
              "    }\n",
              "  </style>\n",
              "\n",
              "      <script>\n",
              "        const buttonEl =\n",
              "          document.querySelector('#df-0c108638-e192-40ba-898b-ac4caa5fa16d button.colab-df-convert');\n",
              "        buttonEl.style.display =\n",
              "          google.colab.kernel.accessAllowed ? 'block' : 'none';\n",
              "\n",
              "        async function convertToInteractive(key) {\n",
              "          const element = document.querySelector('#df-0c108638-e192-40ba-898b-ac4caa5fa16d');\n",
              "          const dataTable =\n",
              "            await google.colab.kernel.invokeFunction('convertToInteractive',\n",
              "                                                     [key], {});\n",
              "          if (!dataTable) return;\n",
              "\n",
              "          const docLinkHtml = 'Like what you see? Visit the ' +\n",
              "            '<a target=\"_blank\" href=https://colab.research.google.com/notebooks/data_table.ipynb>data table notebook</a>'\n",
              "            + ' to learn more about interactive tables.';\n",
              "          element.innerHTML = '';\n",
              "          dataTable['output_type'] = 'display_data';\n",
              "          await google.colab.output.renderOutput(dataTable, element);\n",
              "          const docLink = document.createElement('div');\n",
              "          docLink.innerHTML = docLinkHtml;\n",
              "          element.appendChild(docLink);\n",
              "        }\n",
              "      </script>\n",
              "    </div>\n",
              "  </div>\n"
            ]
          },
          "metadata": {},
          "execution_count": 7
        }
      ]
    },
    {
      "cell_type": "code",
      "source": [
        "print(f\"O conjunto de treinamento possui {train_set.shape[0]} linhas e {train_set.shape[1]} colunas\")"
      ],
      "metadata": {
        "colab": {
          "base_uri": "https://localhost:8080/"
        },
        "id": "haRPs6kzB5ty",
        "outputId": "ceb0e662-9438-4a4d-a999-8133f19aff29"
      },
      "execution_count": 8,
      "outputs": [
        {
          "output_type": "stream",
          "name": "stdout",
          "text": [
            "O conjunto de treinamento possui 100000 linhas e 2 colunas\n"
          ]
        }
      ]
    },
    {
      "cell_type": "code",
      "source": [
        "print(f\"O conjunto de validação possui {validation_set.shape[0]} linhas e {validation_set.shape[1]} colunas\")"
      ],
      "metadata": {
        "colab": {
          "base_uri": "https://localhost:8080/"
        },
        "id": "r5TbDva0CV7Z",
        "outputId": "0d3e1061-fd9a-4e4c-e874-317afb5b5eba"
      },
      "execution_count": 9,
      "outputs": [
        {
          "output_type": "stream",
          "name": "stdout",
          "text": [
            "O conjunto de validação possui 30000 linhas e 2 colunas\n"
          ]
        }
      ]
    },
    {
      "cell_type": "code",
      "source": [
        "# Separando as features do conjunto de treino\n",
        "X_train, y_train = train_set['title'].values, train_set['tags'].values\n",
        "\n",
        "# Separando as features do conjunto de validação\n",
        "X_val, y_val = validation_set['title'].values, validation_set['tags'].values"
      ],
      "metadata": {
        "id": "0BTIKlepCoAZ"
      },
      "execution_count": 10,
      "outputs": []
    },
    {
      "cell_type": "code",
      "source": [
        "X_train"
      ],
      "metadata": {
        "colab": {
          "base_uri": "https://localhost:8080/"
        },
        "id": "UAotd6OVDByP",
        "outputId": "f14be3aa-8457-465a-ef35-a85c34e1d633"
      },
      "execution_count": 11,
      "outputs": [
        {
          "output_type": "execute_result",
          "data": {
            "text/plain": [
              "array(['How to draw a stacked dotplot in R?',\n",
              "       'mysql select all records where a datetime field is less than a specified value',\n",
              "       'How to terminate windows phone 8.1 app', ...,\n",
              "       'Python Pandas Series of Datetimes to Seconds Since the Epoch',\n",
              "       'jqGrid issue grouping - Duplicate rows get appended every time sort is changed',\n",
              "       'Create a List of primitive int?'], dtype=object)"
            ]
          },
          "metadata": {},
          "execution_count": 11
        }
      ]
    },
    {
      "cell_type": "markdown",
      "source": [
        "Utilizando o método compile da lib re para \"limpar\" o texto removendo tudo que não tem valor para o objetivo. Usando o método citado, podemos compilar a expressão regual que queremos e com isso, quando a função encontrar esta expressão, a removerá."
      ],
      "metadata": {
        "id": "GeCV2FyCDyao"
      }
    },
    {
      "cell_type": "code",
      "source": [
        "# Criando os objetos contendo as expressões regulares\n",
        "remove_special_characters = re.compile('[/(){}]\\[\\]\\|@,;')\n",
        "remove_symbols = re.compile('[^0-9a-z #+_]')\n",
        "\n",
        "# Objeto para remoção de stopwords em inglês\n",
        "remove_stopwords = stopwords.words('english')\n",
        "\n",
        "# Função\n",
        "def text_prepare(text):\n",
        "\n",
        "  # normalizando o texto em letras minúsculas\n",
        "  text = text.lower()\n",
        "\n",
        "  # substituindo caracteres especiais por espaços em branco\n",
        "  text = remove_special_characters.sub(' ', text)\n",
        "\n",
        "  # retornando apenas letras e números\n",
        "  text = remove_symbols.sub('', text)\n",
        "\n",
        "  # removendo stopwords\n",
        "  text = ' '.join(word for word in text.split() if word not in remove_stopwords)\n",
        "\n",
        "  return text"
      ],
      "metadata": {
        "id": "WRWbGVaGDyFD"
      },
      "execution_count": 12,
      "outputs": []
    },
    {
      "cell_type": "markdown",
      "source": [
        "Resta verificar se a função de preparação criada acima está funcionando corretamente"
      ],
      "metadata": {
        "id": "og5DFLJbHT3u"
      }
    },
    {
      "cell_type": "code",
      "source": [
        "# Criando a função de teste\n",
        "def test_text_prepare():\n",
        "\n",
        "  # Definindo os exemplos\n",
        "  examples = [\"SQL Server - any equivalent of Excel's CHOOSE function?\",\n",
        "                \"How to free c++ memory vector<int> * arr?\"]\n",
        "\n",
        "  # Inserindo as respostas corretas\n",
        "  answers = [\"sql server equivalent excels choose function\",\n",
        "               \"free c++ memory vectorint arr\"]\n",
        "\n",
        "  for ex, ans in zip(examples, answers):\n",
        "\n",
        "    if text_prepare(ex) != ans:\n",
        "      return f\"Resposta incorreta para {ex}\"\n",
        "\n",
        "  return \"Testes básicos aprovados\"\n",
        "\n",
        "print(test_text_prepare())"
      ],
      "metadata": {
        "colab": {
          "base_uri": "https://localhost:8080/"
        },
        "id": "KYsrOBAQHTYV",
        "outputId": "22ca24c2-b935-4b2e-a40e-bb58a978632a"
      },
      "execution_count": 13,
      "outputs": [
        {
          "output_type": "stream",
          "name": "stdout",
          "text": [
            "Testes básicos aprovados\n"
          ]
        }
      ]
    },
    {
      "cell_type": "code",
      "source": [
        "# Aplicando a função de preparação do texto nos dados de treino\n",
        "X_train = [text_prepare(x) for x in X_train]\n",
        "\n",
        "# Aplicando a função de preparação do texto nos dados de validação\n",
        "X_val = [text_prepare(x) for x in X_val]"
      ],
      "metadata": {
        "id": "c4vK2eVKDEnE"
      },
      "execution_count": 14,
      "outputs": []
    },
    {
      "cell_type": "markdown",
      "source": [
        "Contando a quantidade de ocorrencias para cada palavra no conjunto de treino"
      ],
      "metadata": {
        "id": "AX6lstiYJW8G"
      }
    },
    {
      "cell_type": "code",
      "source": [
        "# realizando a contagem e inserindo o valor em um dicionário\n",
        "words_count = Counter(chain.from_iterable([i.split(\" \") for i in X_train]))\n",
        "\n",
        "# Ordenando do maior para o menor\n",
        "words_freq = sorted(words_count.items(), key=lambda x: x[1], reverse=True)"
      ],
      "metadata": {
        "id": "xsBe2Iv5JI8D"
      },
      "execution_count": 15,
      "outputs": []
    },
    {
      "cell_type": "code",
      "source": [
        "words_freq[:10]"
      ],
      "metadata": {
        "colab": {
          "base_uri": "https://localhost:8080/"
        },
        "id": "oS5wx7R-KAxb",
        "outputId": "f63bbe1e-08f2-4afe-e260-50d78f515512"
      },
      "execution_count": 16,
      "outputs": [
        {
          "output_type": "execute_result",
          "data": {
            "text/plain": [
              "[('using', 8274),\n",
              " ('php', 5422),\n",
              " ('java', 5397),\n",
              " ('file', 5022),\n",
              " ('javascript', 4546),\n",
              " ('error', 4359),\n",
              " ('get', 4266),\n",
              " ('c#', 4090),\n",
              " ('python', 4008),\n",
              " ('string', 3584)]"
            ]
          },
          "metadata": {},
          "execution_count": 16
        }
      ]
    },
    {
      "cell_type": "markdown",
      "source": [
        "Visualizando a frequencia em forma de gráfico"
      ],
      "metadata": {
        "id": "sphZoW18KjqY"
      }
    },
    {
      "cell_type": "code",
      "source": [
        "# Colocando as palavras em um objeto do tipo lista\n",
        "words_list = list(dict(words_freq[:10]).keys())\n",
        "\n",
        "# Colocando as ocorrências também em uma lista\n",
        "occur_list = list(dict(words_freq[:10]).values())\n",
        "\n",
        "# Preparando plotagem\n",
        "plt.figure(figsize=(10,6))\n",
        "\n",
        "ax = sns.barplot(x = words_list, y = occur_list)\n",
        "\n",
        "ax.set_title(\"TOP 10 palavras que mais ocorreram\")\n",
        "\n",
        "#plt.xticks(rotation=30)"
      ],
      "metadata": {
        "colab": {
          "base_uri": "https://localhost:8080/",
          "height": 563
        },
        "id": "01Gw-EXUKi_Y",
        "outputId": "11f1ac9b-e560-4049-ea19-aa0c8cdcd74b"
      },
      "execution_count": 17,
      "outputs": [
        {
          "output_type": "execute_result",
          "data": {
            "text/plain": [
              "Text(0.5, 1.0, 'TOP 10 palavras que mais ocorreram')"
            ]
          },
          "metadata": {},
          "execution_count": 17
        },
        {
          "output_type": "display_data",
          "data": {
            "text/plain": [
              "<Figure size 1000x600 with 1 Axes>"
            ],
            "image/png": "[encoded data removed]"
          },
          "metadata": {}
        }
      ]
    },
    {
      "cell_type": "markdown",
      "source": [
        "Realizando o mesmo processo para contar as Tags"
      ],
      "metadata": {
        "id": "4eReMIhcLxSJ"
      }
    },
    {
      "cell_type": "code",
      "source": [
        "# realizando a contagem e inserindo o valor em um dicionário\n",
        "tags_count = Counter(chain.from_iterable([i for i in y_train]))\n",
        "\n",
        "# Ordenando do maior para o menor\n",
        "tags_freq = sorted(tags_count.items(), key=lambda x: x[1], reverse=True)"
      ],
      "metadata": {
        "id": "Mo4vvcBZL0ZZ"
      },
      "execution_count": 18,
      "outputs": []
    },
    {
      "cell_type": "code",
      "source": [
        "tags_freq[:10]"
      ],
      "metadata": {
        "colab": {
          "base_uri": "https://localhost:8080/"
        },
        "id": "NoJROjuwMKpb",
        "outputId": "d06e4a32-9675-49f8-a5cd-e355b0409e79"
      },
      "execution_count": 19,
      "outputs": [
        {
          "output_type": "execute_result",
          "data": {
            "text/plain": [
              "[('javascript', 19078),\n",
              " ('c#', 19077),\n",
              " ('java', 18661),\n",
              " ('php', 13907),\n",
              " ('python', 8940),\n",
              " ('jquery', 7510),\n",
              " ('c++', 6469),\n",
              " ('html', 4668),\n",
              " ('objective-c', 4338),\n",
              " ('asp.net', 3939)]"
            ]
          },
          "metadata": {},
          "execution_count": 19
        }
      ]
    },
    {
      "cell_type": "code",
      "source": [
        "tags_list = list(dict(tags_freq[:10]).keys())\n",
        "\n",
        "occur_tags_list = list(dict(tags_freq[:10]).values())\n",
        "\n",
        "# Preparando plotagem\n",
        "plt.figure(figsize=(10,6))\n",
        "\n",
        "ax = sns.barplot(x = tags_list, y = occur_tags_list)\n",
        "\n",
        "ax.set_title(\"TOP 10 tags que mais ocorreram\")\n",
        "\n",
        "#plt.xticks(rotation=30)"
      ],
      "metadata": {
        "colab": {
          "base_uri": "https://localhost:8080/",
          "height": 563
        },
        "id": "zYVq_SxkMQ-O",
        "outputId": "84dff6c3-4355-497a-d0cd-f55f86be7dcb"
      },
      "execution_count": 20,
      "outputs": [
        {
          "output_type": "execute_result",
          "data": {
            "text/plain": [
              "Text(0.5, 1.0, 'TOP 10 tags que mais ocorreram')"
            ]
          },
          "metadata": {},
          "execution_count": 20
        },
        {
          "output_type": "display_data",
          "data": {
            "text/plain": [
              "<Figure size 1000x600 with 1 Axes>"
            ],
            "image/png": "[encoded data removed]"
          },
          "metadata": {}
        }
      ]
    },
    {
      "cell_type": "markdown",
      "source": [
        "Transformando os textos em vetores numérico (Vetorização), visto que algoritmos de ML não trabalham com strings."
      ],
      "metadata": {
        "id": "53AddyJr1zov"
      }
    },
    {
      "cell_type": "code",
      "source": [
        "# Definição de um limite de palavras/features\n",
        "max_features = 5000\n",
        "\n",
        "# Instância do vetorizador\n",
        "vectorizer = CountVectorizer(max_features = max_features)\n",
        "\n",
        "# Aplicando a transformação (bow = bag of words)\n",
        "X_train_bow = vectorizer.fit_transform(X_train)\n",
        "\n",
        "X_val_bow = vectorizer.transform(X_val)\n",
        "\n",
        "# Checando o shape\n",
        "print(f'X_train shape: {X_train_bow.shape}')\n",
        "print(f\"X_val shape {X_val_bow.shape}\")"
      ],
      "metadata": {
        "colab": {
          "base_uri": "https://localhost:8080/"
        },
        "id": "yg4c9-z21s21",
        "outputId": "243346c6-cf56-40d9-d0f9-15508392c03f"
      },
      "execution_count": 21,
      "outputs": [
        {
          "output_type": "stream",
          "name": "stdout",
          "text": [
            "X_train shape: (100000, 5000)\n",
            "X_val shape (30000, 5000)\n"
          ]
        }
      ]
    },
    {
      "cell_type": "markdown",
      "source": [
        "TF-IDF\n",
        "\n",
        "capturando as frequencias relativas das palavras, pois ajuda a penalizar as palavras muito frequentes e otimiza o uso das melhores."
      ],
      "metadata": {
        "id": "JGbn2DRi3mL2"
      }
    },
    {
      "cell_type": "code",
      "source": [
        "# Instanciando o tf-idf\n",
        "tfidf_vectorizer = TfidfVectorizer(token_pattern='(\\S+)', min_df=5, max_df=.9, ngram_range=(1,2))\n",
        "\n",
        "# Aplicando o modelo com fit_transform nos dados de treino\n",
        "X_train_tfidf = tfidf_vectorizer.fit_transform(X_train)\n",
        "\n",
        "# Aplicando o modelo com transform nos dados de validação\n",
        "X_val_tfidf = tfidf_vectorizer.transform(X_val)\n",
        "\n",
        "# Coletando as palavras\n",
        "tfidf_vocab = tfidf_vectorizer.vocabulary_\n",
        "\n",
        "# Invertendo o dicionário para termos a quantidade como chaves\n",
        "tfidf_reverse_vocab = {i:word for word, i in tfidf_vocab.items()}"
      ],
      "metadata": {
        "id": "JFuuQCrD4Fjc"
      },
      "execution_count": 22,
      "outputs": []
    },
    {
      "cell_type": "markdown",
      "source": [
        "convertendo a variável alvo em binário, ou seja, a previsão será 0 e 1"
      ],
      "metadata": {
        "id": "McekaXyR5p4y"
      }
    },
    {
      "cell_type": "code",
      "source": [
        "# Instanciando o MultilabelBinarizer\n",
        "mlb = MultiLabelBinarizer(classes = sorted(tags_count.keys()))\n",
        "\n",
        "# Convertendo rótulos de treino com fit_transform\n",
        "y_train = mlb.fit_transform(y_train)\n",
        "\n",
        "# Transformando dados de validação com fit_transform\n",
        "y_val = mlb.fit_transform(y_val)"
      ],
      "metadata": {
        "id": "__y2NcUr5qya"
      },
      "execution_count": 23,
      "outputs": []
    },
    {
      "cell_type": "code",
      "source": [
        "y_train[:3]"
      ],
      "metadata": {
        "colab": {
          "base_uri": "https://localhost:8080/"
        },
        "id": "dE47WKRO6Sbd",
        "outputId": "410a00bd-2c8a-4335-9a2a-e31e2940ccd1"
      },
      "execution_count": 24,
      "outputs": [
        {
          "output_type": "execute_result",
          "data": {
            "text/plain": [
              "array([[0, 0, 0, 0, 0, 0, 0, 0, 0, 0, 0, 0, 0, 0, 0, 0, 0, 0, 0, 0, 0, 0,\n",
              "        0, 0, 0, 0, 0, 0, 0, 0, 0, 0, 0, 0, 0, 0, 0, 0, 0, 0, 0, 0, 0, 0,\n",
              "        0, 0, 0, 0, 0, 0, 0, 0, 0, 0, 0, 0, 0, 0, 0, 0, 0, 0, 0, 0, 0, 0,\n",
              "        1, 0, 0, 0, 0, 0, 0, 0, 0, 0, 0, 0, 0, 0, 0, 0, 0, 0, 0, 0, 0, 0,\n",
              "        0, 0, 0, 0, 0, 0, 0, 0, 0, 0, 0, 0],\n",
              "       [0, 0, 0, 0, 0, 0, 0, 0, 0, 0, 0, 0, 0, 0, 0, 0, 0, 0, 0, 0, 0, 0,\n",
              "        0, 0, 0, 0, 0, 0, 0, 0, 0, 0, 0, 0, 0, 0, 0, 0, 0, 0, 0, 0, 0, 0,\n",
              "        0, 0, 0, 0, 0, 0, 1, 0, 0, 0, 0, 0, 0, 0, 0, 0, 1, 0, 0, 0, 0, 0,\n",
              "        0, 0, 0, 0, 0, 0, 0, 0, 0, 0, 0, 0, 0, 0, 0, 0, 0, 0, 0, 0, 0, 0,\n",
              "        0, 0, 0, 0, 0, 0, 0, 0, 0, 0, 0, 0],\n",
              "       [0, 0, 0, 0, 0, 0, 0, 0, 0, 0, 1, 0, 0, 0, 0, 0, 0, 0, 0, 0, 0, 0,\n",
              "        0, 0, 0, 0, 0, 0, 0, 0, 0, 0, 0, 0, 0, 0, 0, 0, 0, 0, 0, 0, 0, 0,\n",
              "        0, 0, 0, 0, 0, 0, 0, 0, 0, 0, 0, 0, 0, 0, 0, 0, 0, 0, 0, 0, 0, 0,\n",
              "        0, 0, 0, 0, 0, 0, 0, 0, 0, 0, 0, 0, 0, 0, 0, 0, 0, 0, 0, 0, 0, 0,\n",
              "        0, 0, 0, 0, 0, 0, 0, 0, 0, 0, 0, 0]])"
            ]
          },
          "metadata": {},
          "execution_count": 24
        }
      ]
    },
    {
      "cell_type": "code",
      "source": [
        "y_val[:3]"
      ],
      "metadata": {
        "colab": {
          "base_uri": "https://localhost:8080/"
        },
        "id": "iupFF3ku6XaN",
        "outputId": "c8870c6f-15df-4e9b-9197-46737a149d47"
      },
      "execution_count": 25,
      "outputs": [
        {
          "output_type": "execute_result",
          "data": {
            "text/plain": [
              "array([[0, 0, 0, 0, 0, 0, 0, 0, 0, 0, 0, 0, 0, 0, 0, 0, 0, 0, 0, 0, 0, 0,\n",
              "        0, 0, 0, 0, 0, 0, 0, 0, 0, 0, 0, 0, 0, 0, 0, 0, 0, 0, 0, 0, 0, 0,\n",
              "        0, 0, 0, 0, 0, 0, 0, 0, 0, 0, 0, 0, 0, 0, 0, 0, 1, 0, 0, 0, 0, 0,\n",
              "        0, 0, 0, 0, 0, 0, 0, 0, 0, 0, 0, 0, 0, 1, 0, 0, 0, 0, 0, 0, 0, 0,\n",
              "        0, 0, 0, 0, 0, 0, 0, 0, 0, 0, 0, 0],\n",
              "       [0, 0, 0, 0, 0, 0, 0, 0, 0, 0, 0, 0, 0, 0, 0, 0, 0, 0, 0, 0, 0, 0,\n",
              "        0, 0, 0, 0, 0, 0, 0, 0, 0, 0, 0, 0, 0, 0, 0, 0, 1, 0, 0, 0, 0, 0,\n",
              "        0, 0, 0, 0, 0, 0, 0, 0, 0, 0, 0, 0, 0, 0, 0, 0, 0, 0, 0, 0, 0, 0,\n",
              "        0, 0, 0, 0, 0, 0, 0, 0, 0, 0, 0, 0, 0, 0, 0, 0, 0, 0, 0, 0, 0, 0,\n",
              "        0, 0, 0, 0, 0, 0, 0, 0, 0, 0, 0, 0],\n",
              "       [0, 0, 0, 0, 0, 0, 0, 0, 0, 0, 0, 0, 0, 0, 0, 0, 0, 0, 0, 0, 0, 0,\n",
              "        0, 0, 0, 0, 0, 0, 0, 0, 0, 0, 0, 0, 0, 0, 0, 0, 0, 0, 0, 0, 0, 0,\n",
              "        0, 0, 0, 0, 0, 0, 0, 0, 0, 0, 0, 0, 0, 0, 0, 0, 0, 0, 0, 0, 0, 0,\n",
              "        0, 0, 0, 1, 1, 0, 0, 0, 0, 0, 0, 0, 0, 0, 0, 0, 0, 0, 0, 0, 0, 0,\n",
              "        0, 0, 0, 0, 0, 0, 0, 0, 0, 0, 0, 0]])"
            ]
          },
          "metadata": {},
          "execution_count": 25
        }
      ]
    },
    {
      "cell_type": "code",
      "source": [
        "# Vendo as classes que foram binzarizadas\n",
        "mlb.classes_"
      ],
      "metadata": {
        "colab": {
          "base_uri": "https://localhost:8080/"
        },
        "id": "42BxsaRA6blH",
        "outputId": "ed9e72ee-77bb-4630-9f37-a45be936aa1a"
      },
      "execution_count": 26,
      "outputs": [
        {
          "output_type": "execute_result",
          "data": {
            "text/plain": [
              "array(['.net', 'ajax', 'algorithm', 'android', 'angularjs', 'apache',\n",
              "       'arrays', 'asp.net', 'asp.net-mvc', 'c', 'c#', 'c++', 'class',\n",
              "       'cocoa-touch', 'codeigniter', 'css', 'csv', 'database', 'date',\n",
              "       'datetime', 'django', 'dom', 'eclipse', 'entity-framework',\n",
              "       'excel', 'facebook', 'file', 'forms', 'function', 'generics',\n",
              "       'google-maps', 'hibernate', 'html', 'html5', 'image', 'ios',\n",
              "       'iphone', 'java', 'javascript', 'jquery', 'json', 'jsp', 'laravel',\n",
              "       'linq', 'linux', 'list', 'loops', 'maven', 'mongodb',\n",
              "       'multithreading', 'mysql', 'node.js', 'numpy', 'objective-c',\n",
              "       'oop', 'opencv', 'osx', 'pandas', 'parsing', 'performance', 'php',\n",
              "       'pointers', 'python', 'python-2.7', 'python-3.x', 'qt', 'r',\n",
              "       'regex', 'rest', 'ruby', 'ruby-on-rails', 'ruby-on-rails-3',\n",
              "       'selenium', 'servlets', 'session', 'sockets', 'sorting', 'spring',\n",
              "       'spring-mvc', 'sql', 'sql-server', 'string', 'swift', 'swing',\n",
              "       'twitter-bootstrap', 'uitableview', 'unit-testing', 'validation',\n",
              "       'vb.net', 'visual-studio', 'visual-studio-2010', 'wcf',\n",
              "       'web-services', 'windows', 'winforms', 'wordpress', 'wpf', 'xaml',\n",
              "       'xcode', 'xml'], dtype=object)"
            ]
          },
          "metadata": {},
          "execution_count": 26
        }
      ]
    },
    {
      "cell_type": "markdown",
      "source": [
        "Treinamento e Teste"
      ],
      "metadata": {
        "id": "s7IelySE62cM"
      }
    },
    {
      "cell_type": "code",
      "source": [
        "def train_classifier(X_train, y_train, C=2.5, penalty='l2'):\n",
        "\n",
        "  # Instanciando o modelo\n",
        "  logreg = LogisticRegression(C=C, penalty=penalty, max_iter=2000)\n",
        "\n",
        "  one_vs_rest = OneVsRestClassifier(logreg).fit(X_train, y_train)\n",
        "\n",
        "  return one_vs_rest"
      ],
      "metadata": {
        "id": "jIFRhP_u64kC"
      },
      "execution_count": 27,
      "outputs": []
    },
    {
      "cell_type": "markdown",
      "source": [
        "**Aplicando a função**"
      ],
      "metadata": {
        "id": "zA8mLphH8rkq"
      }
    },
    {
      "cell_type": "code",
      "source": [
        "# Treinando um classificador com bow\n",
        "classif_bow = train_classifier(X_train_bow, y_train)\n",
        "\n",
        "# Treinando um classificador com tf-idf\n",
        "classif_tfidf = train_classifier(X_train_tfidf, y_train)"
      ],
      "metadata": {
        "id": "HjOmltAw8Dfu"
      },
      "execution_count": 28,
      "outputs": []
    },
    {
      "cell_type": "code",
      "source": [
        "# Realizando as previsões com labels\n",
        "y_val_predicted_labels_bow = classif_bow.predict(X_val_bow)\n",
        "\n",
        "# Realizando as previsões com scores\n",
        "y_val_predicted_scores_bow = classif_bow.decision_function(X_val_bow)\n",
        "\n",
        "y_val_predicted_labels_tfidf = classif_tfidf.predict(X_val_tfidf)\n",
        "\n",
        "y_val_predicted_scores_tfidf = classif_tfidf.decision_function(X_val_tfidf)"
      ],
      "metadata": {
        "id": "QoU0WRVV-H66"
      },
      "execution_count": 29,
      "outputs": []
    },
    {
      "cell_type": "code",
      "source": [
        "y_val_pred_inversed = mlb.inverse_transform(y_val_predicted_labels_tfidf)\n",
        "y_val_inversed = mlb.inverse_transform(y_val)\n",
        "for i in range(5):\n",
        "    print('Title:\\t{}\\nTrue labels:\\t{}\\nPredicted labels:\\t{}\\n\\n'.format(\n",
        "        X_val[i],\n",
        "        ','.join(y_val_inversed[i]),\n",
        "        ','.join(y_val_pred_inversed[i])\n",
        "    ))"
      ],
      "metadata": {
        "colab": {
          "base_uri": "https://localhost:8080/"
        },
        "id": "WmdBzHZY-zel",
        "outputId": "61266ef8-8485-47e7-d813-2243158abf61"
      },
      "execution_count": 30,
      "outputs": [
        {
          "output_type": "stream",
          "name": "stdout",
          "text": [
            "Title:\todbc_exec always fail\n",
            "True labels:\tphp,sql\n",
            "Predicted labels:\t\n",
            "\n",
            "\n",
            "Title:\taccess base classes variable within child class\n",
            "True labels:\tjavascript\n",
            "Predicted labels:\t\n",
            "\n",
            "\n",
            "Title:\tcontenttype applicationjson required rails\n",
            "True labels:\truby,ruby-on-rails\n",
            "Predicted labels:\truby-on-rails\n",
            "\n",
            "\n",
            "Title:\tsessions sinatra used pass variable\n",
            "True labels:\truby,session\n",
            "Predicted labels:\t\n",
            "\n",
            "\n",
            "Title:\tgetting error type json exist postgresql rake db migrate\n",
            "True labels:\tjson,ruby,ruby-on-rails\n",
            "Predicted labels:\tjson,ruby-on-rails\n",
            "\n",
            "\n"
          ]
        }
      ]
    },
    {
      "cell_type": "code",
      "source": [
        "# Criando função para avaliação\n",
        "def print_evaluation_scores (y_val, predicted):\n",
        "\n",
        "  # Acurácia\n",
        "  print(f\"Accuracy Score: {accuracy_score(y_true=y_val, y_pred=predicted)}\")\n",
        "\n",
        "  # F1-Score\n",
        "  print(f\"F1-Score: {np.mean(np.array(f1_score(y_true=y_val, y_pred=predicted, average='micro')))}\")\n",
        "\n",
        "  # Precision\n",
        "  print(f\"Precision Score: {average_precision_score(y_true=y_val, y_score=predicted, average='weighted')}\")"
      ],
      "metadata": {
        "id": "igENiYMd_Mhj"
      },
      "execution_count": 32,
      "outputs": []
    },
    {
      "cell_type": "code",
      "source": [
        "print('Bag-of-words')\n",
        "print('---------------------------------------------')\n",
        "print_evaluation_scores(y_val, y_val_predicted_labels_bow)\n",
        "print('=-=-=-=-=-=-=-=-=-=-=-=-=-=-=-=-=-=-=-=-=-=-=')\n",
        "print('\\nTfidf')\n",
        "print('---------------------------------------------')\n",
        "print_evaluation_scores(y_val, y_val_predicted_labels_tfidf)\n",
        "print('=-=-=-=-=-=-=-=-=-=-=-=-=-=-=-=-=-=-=-=-=-=-=')"
      ],
      "metadata": {
        "colab": {
          "base_uri": "https://localhost:8080/"
        },
        "id": "V-OQ9yKCBOBm",
        "outputId": "86541901-38f8-449a-f951-edfc6734dcb3"
      },
      "execution_count": 33,
      "outputs": [
        {
          "output_type": "stream",
          "name": "stdout",
          "text": [
            "Bag-of-words\n",
            "---------------------------------------------\n",
            "Accuracy Score: 0.3269\n",
            "F1-Score: 0.6471222201496404\n",
            "Precision Score: 0.48119249356885613\n",
            "=-=-=-=-=-=-=-=-=-=-=-=-=-=-=-=-=-=-=-=-=-=-=\n",
            "\n",
            "Tfidf\n",
            "---------------------------------------------\n",
            "Accuracy Score: 0.35406666666666664\n",
            "F1-Score: 0.6612793755832698\n",
            "Precision Score: 0.501591463716413\n",
            "=-=-=-=-=-=-=-=-=-=-=-=-=-=-=-=-=-=-=-=-=-=-=\n"
          ]
        }
      ]
    },
    {
      "cell_type": "markdown",
      "source": [
        "Análise das variáveis mais importantes"
      ],
      "metadata": {
        "id": "FrtFrZpUClOP"
      }
    },
    {
      "cell_type": "code",
      "source": [
        "def print_words_for_tag(classifier, tag, tags_classes, index_to_words, all_words):\n",
        "    print('Tag:\\t{}'.format(tag))\n",
        "\n",
        "    # Extract an estimator from the classifier for the given tag.\n",
        "    # Extract feature coefficients from the estimator.\n",
        "\n",
        "    est = classifier.estimators_[tags_classes.index(tag)]\n",
        "\n",
        "    top_positive_words = [index_to_words[index] for index in est.coef_.argsort().tolist()[0][-5:]]# top-5 words sorted by the coefficiens.\n",
        "    top_negative_words = [index_to_words[index] for index in est.coef_.argsort().tolist()[0][:5]]# bottom-5 words  sorted by the coefficients.\n",
        "    print('Top positive words:\\t{}'.format(', '.join(top_positive_words)))\n",
        "    print('Top negative words:\\t{}\\n'.format(', '.join(top_negative_words)))"
      ],
      "metadata": {
        "id": "39xWOwCMCn-A"
      },
      "execution_count": 41,
      "outputs": []
    },
    {
      "cell_type": "code",
      "source": [
        "# cria a lista de palavras\n",
        "lista_palavras = ['c', 'c++', 'linux']\n",
        "all_words_text = list(words_count.keys())\n",
        "for w in lista_palavras:\n",
        "    print_words_for_tag(classif_tfidf, w, mlb.classes, tfidf_reverse_vocab, all_words_text)"
      ],
      "metadata": {
        "colab": {
          "base_uri": "https://localhost:8080/"
        },
        "id": "S3B_QcCVCyru",
        "outputId": "a83f5653-3b6f-4f70-cd4b-db2400fcd20f"
      },
      "execution_count": 44,
      "outputs": [
        {
          "output_type": "stream",
          "name": "stdout",
          "text": [
            "Tag:\tc\n",
            "Top positive words:\tprintf, malloc, scanf, cc++, c\n",
            "Top negative words:\tjava, php, python, javascript, c#\n",
            "\n",
            "Tag:\tc++\n",
            "Top positive words:\tmfc, boost, cc++, qt, c++\n",
            "Top negative words:\tjava, php, javascript, python, c#\n",
            "\n",
            "Tag:\tlinux\n",
            "Top positive words:\tunix, address, signal, ubuntu, linux\n",
            "Top negative words:\tjavascript, c#, jquery, array, method\n",
            "\n"
          ]
        }
      ]
    }
  ]
}